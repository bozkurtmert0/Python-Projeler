{
  "nbformat": 4,
  "nbformat_minor": 0,
  "metadata": {
    "colab": {
      "name": "Veri_yapilari_odev1.ipynb",
      "provenance": [],
      "collapsed_sections": [],
      "authorship_tag": "ABX9TyOSan5cJKSqKWqcdytQQgzQ",
      "include_colab_link": true
    },
    "kernelspec": {
      "name": "python3",
      "display_name": "Python 3"
    }
  },
  "cells": [
    {
      "cell_type": "markdown",
      "metadata": {
        "id": "view-in-github",
        "colab_type": "text"
      },
      "source": [
        "<a href=\"https://colab.research.google.com/github/bozkurtmert0/Python-Projeler/blob/master/Veri_yapilari_odev1.ipynb\" target=\"_parent\"><img src=\"https://colab.research.google.com/assets/colab-badge.svg\" alt=\"Open In Colab\"/></a>"
      ]
    },
    {
      "cell_type": "markdown",
      "metadata": {
        "id": "hrGLP8oY5H2n"
      },
      "source": [
        "Mert Bozkurt\n",
        "No 19060365\n",
        "\n",
        "\n"
      ]
    },
    {
      "cell_type": "markdown",
      "metadata": {
        "id": "xHKe0or2FRm2"
      },
      "source": [
        "Tablodaki numaralar,notlar ve ordaki indexler"
      ]
    },
    {
      "cell_type": "code",
      "metadata": {
        "id": "hT-9II8qFJ2H"
      },
      "source": [
        "numaralar = [18060311,20060045,19061091,20060134,20060678,18061086,20060032,20060067 ,19060456,18060245,20060110,20060234,20060141,20060011,20060012]\n",
        "notlar = [ 40,50,75,90,40,75,50,60,60,75,40,90,60,50,60]\n",
        "indexler = [0,1,2,3,4,5,6,7,8,9,10,11,12,13,14]"
      ],
      "execution_count": null,
      "outputs": []
    },
    {
      "cell_type": "markdown",
      "metadata": {
        "id": "8SfDskztMRzL"
      },
      "source": [
        "index listesini fonksiyonlarin dogru calisip calismadigini denemek icin ve tabloyu tamamen ayni olmasi icin tanimladim"
      ]
    },
    {
      "cell_type": "markdown",
      "metadata": {
        "id": "wPE3LEVaJnCt"
      },
      "source": [
        "# **Siralama fonksiyonu**\n",
        "\n",
        "Baloncuk siralamayi kullandik "
      ]
    },
    {
      "cell_type": "code",
      "metadata": {
        "id": "BzdtoRrDFUvi"
      },
      "source": [
        "def sirala (numaralar,notlar,indexler):\n",
        "    for i in range(0,len(notlar)):\n",
        "        for j in range(0,len(notlar)-1):\n",
        "           \n",
        "            if notlar[j] < notlar[j+1]:\n",
        "               \n",
        "                notlar[j],notlar[j+1]  = notlar[j+1],notlar[j] \n",
        "                numaralar[j],numaralar[j+1]  = numaralar[j+1],numaralar[j] \n",
        "                indexler[j],indexler[j+1]  = indexler[j+1],indexler[j] \n",
        "          \n",
        "            elif notlar[j] == notlar[j+1]:#notlarin esit olma durumu\n",
        "                \n",
        "                if numaralar[j] > numaralar[j+1]:\n",
        "                    numaralar[j],numaralar[j+1]  = numaralar[j+1],numaralar[j]\n",
        "                    notlar[j],notlar[j+1] = notlar[j+1],notlar[j] \n",
        "                    indexler[j],indexler[j+1]  = indexler[j+1],indexler[j]\n",
        "               \n",
        "                else :\n",
        "                    continue \n",
        "            \n",
        "            else :\n",
        "                continue\n",
        "    #siralandiktan sonra yazdiralim\n",
        "    for i in range(0,len(notlar)):\n",
        "        print(indexler[i] ,numaralar[i],notlar[i])          \n",
        "        \n",
        "          \n",
        "        "
      ],
      "execution_count": 1,
      "outputs": []
    },
    {
      "cell_type": "markdown",
      "metadata": {
        "id": "p5XOzd_IMAiM"
      },
      "source": [
        "Tum veriler eklendiginde ekli iken sonuc"
      ]
    },
    {
      "cell_type": "code",
      "metadata": {
        "id": "A052n9S8LyCy",
        "outputId": "37f41e9a-d271-4e3f-b903-200ff15c8950",
        "colab": {
          "base_uri": "https://localhost:8080/"
        }
      },
      "source": [
        "sirala (numaralar,notlar,indexler)"
      ],
      "execution_count": null,
      "outputs": [
        {
          "output_type": "stream",
          "text": [
            "3 20060134 90\n",
            "11 20060234 90\n",
            "9 18060245 75\n",
            "5 18061086 75\n",
            "2 19061091 75\n",
            "8 19060456 60\n",
            "14 20060012 60\n",
            "7 20060067 60\n",
            "12 20060141 60\n",
            "13 20060011 50\n",
            "6 20060032 50\n",
            "1 20060045 50\n",
            "0 18060311 40\n",
            "10 20060110 40\n",
            "4 20060678 40\n"
          ],
          "name": "stdout"
        }
      ]
    },
    {
      "cell_type": "code",
      "metadata": {
        "id": "IQFuVlhZRjP0"
      },
      "source": [
        "numaralar = []\n",
        "notlar = [ ]\n",
        "indexler = []  #bu liste pdfde bulunan indexler siralamanin dogru oldugunu anlamak icin "
      ],
      "execution_count": 16,
      "outputs": []
    },
    {
      "cell_type": "markdown",
      "metadata": {
        "id": "FGGNCHAAKX1s"
      },
      "source": [
        "# **Ekleme Fonksiyonu**"
      ]
    },
    {
      "cell_type": "code",
      "metadata": {
        "id": "ZZM5AwaqKdrA"
      },
      "source": [
        "def ekle () :\n",
        "    numarasi = int(input('Numarasini giriniz:'))\n",
        "    notu = int(input('Notunu giriniz'))\n",
        "    indexi =int(input('Indexi giriniz'))\n",
        "    numaralar.append(numarasi)\n",
        "    notlar.append(notu)\n",
        "    indexler.append(indexi)\n",
        "\n",
        "\"\"\"\n",
        "append i kullanmayip boyle yazmistim ama sorunla karsilastim cozemedim\n",
        "def ekle () :\n",
        "    numarasi = int(input('Numarasini giriniz:'))\n",
        "    notu = int(input('Notunu giriniz'))\n",
        "    indexi =int(input('Indexi giriniz'))\n",
        "    numaralar[indexi] = numarasi\n",
        "    notlar[indexi]= notu\n",
        "    indexler[indexi] = indexi\n",
        "\"\"\""
      ],
      "execution_count": null,
      "outputs": []
    },
    {
      "cell_type": "markdown",
      "metadata": {
        "id": "B5eireLPKhoj"
      },
      "source": [
        "# **Silme Fonksiyonu**\n",
        "\n",
        "\n"
      ]
    },
    {
      "cell_type": "code",
      "metadata": {
        "id": "IjKirWGAKlRi"
      },
      "source": [
        "def sil() :\n",
        "    index = int(input('Silmek istediginiz indexi giriniz'))\n",
        "    numaralar.pop(index)\n",
        "    notlar.pop(index)\n",
        "    indexler.pop(index)"
      ],
      "execution_count": 4,
      "outputs": []
    },
    {
      "cell_type": "markdown",
      "metadata": {
        "id": "nqeHUX4CLU5D"
      },
      "source": [
        "# **Degistir Fonksiyonu**"
      ]
    },
    {
      "cell_type": "markdown",
      "metadata": {
        "id": "FVepYSUINC3c"
      },
      "source": [
        "Notlari gunceller fakat daha sonrasinda tekrar siralama fonksiyonu cagirmamiz gerekiyor bunu fonksiyonun icinde de yapabilirdik ."
      ]
    },
    {
      "cell_type": "code",
      "metadata": {
        "id": "lNUlBme4KpY1"
      },
      "source": [
        "def degistir():\n",
        "    index = int(input('Degistirmek istedigniz ogrencinin indexini giriniz'))\n",
        "    notu = int(input('Ogrencinin yeni notunu giriniz'))\n",
        "    #ana index  bu tablodaki goruntuyu dogrulamak icin kullandigimiz index degiskeni ,listenin index sirasi degil\n",
        "    index_root = indexler[index] #listenin hangi indexsine denk geldigini bulur\n",
        "    notlar[index_root] = notu"
      ],
      "execution_count": 13,
      "outputs": []
    },
    {
      "cell_type": "markdown",
      "metadata": {
        "id": "6TlFtxk9Lahb"
      },
      "source": [
        "# **Yazdir Fonksiyonu**"
      ]
    },
    {
      "cell_type": "code",
      "metadata": {
        "id": "NEUkX1JCLZ8a"
      },
      "source": [
        "def yazdir() :\n",
        "    notu = int(input('Ders notunu giriniz'))\n",
        "    \n",
        "    for i in range(0,len(notlar)-1) :\n",
        "        if notlar[i] > notu :\n",
        "            print(\"Ïndexi , Numarasi ,Notu\")\n",
        "            print (indexler[i],numaralar[i],notlar[i])\n",
        "            \n",
        "        else :\n",
        "            continue"
      ],
      "execution_count": 11,
      "outputs": []
    },
    {
      "cell_type": "markdown",
      "metadata": {
        "id": "gKFQn54UQn70"
      },
      "source": [
        "## **Ekranda Goruntule fonksiyonu**"
      ]
    },
    {
      "cell_type": "code",
      "metadata": {
        "id": "x-JEKLKuPxFk"
      },
      "source": [
        "def goruntule() :\n",
        "  \n",
        "    for i in range(0,len(notlar)):\n",
        "        print('Indexler/ Numaralar/Notlar')\n",
        "        print(indexler[i] ,numaralar[i],notlar[i])          "
      ],
      "execution_count": 7,
      "outputs": []
    },
    {
      "cell_type": "markdown",
      "metadata": {
        "id": "S7_7XMnqLpqj"
      },
      "source": [
        "# **Programin Calismasi**"
      ]
    },
    {
      "cell_type": "code",
      "metadata": {
        "id": "1uVCMnXxLfRC"
      },
      "source": [
        "while True :\n",
        "  print('***************** Ne yapmak istediginizi secin ********************* ')\n",
        "  print('Tabloya veri eklemek icin 1 ')\n",
        "  print('Indexe gore veri silmek icin 2  ') \n",
        "  print('Tablodaki veriyi guncellemek icin 3 ')\n",
        "  print('Verilen ders notunda yuksek olanlari gormek icin 4')\n",
        "  print('Mevcut tablodaki verileri siralamak icin 5 ')\n",
        "  print('Mevcut tabloyu gormak icin 6 ')\n",
        "  print('************************************** sayisiniz giriniz')\n",
        "  \n",
        "  giris = int(input('Islemi giriniz :'))\n",
        "\n",
        "  if giris == 1 :\n",
        "    ekle()\n",
        "  elif giris == 2 :\n",
        "    sil()\n",
        "  elif giris == 3 :\n",
        "    degistir()\n",
        "\n",
        "  elif giris == 4 :\n",
        "    yazdir()\n",
        "\n",
        "  elif giris == 5 :\n",
        "    \n",
        "    sirala(numaralar,notlar,indexler)\n",
        "  elif giris == 6:\n",
        "    \n",
        "    goruntule()\n",
        "  else :\n",
        "    \n",
        "    print('Gecersiz islem')\n",
        "    break "
      ],
      "execution_count": null,
      "outputs": []
    }
  ]
}